{
 "cells": [
  {
   "cell_type": "code",
   "execution_count": 5,
   "id": "72b5e189",
   "metadata": {},
   "outputs": [
    {
     "data": {
      "text/plain": [
       "True"
      ]
     },
     "execution_count": 5,
     "metadata": {},
     "output_type": "execute_result"
    }
   ],
   "source": [
    "import os\n",
    "import requests\n",
    "from langchain.chains import ConversationalRetrievalChain\n",
    "#from langchain_google_genai.chat_models import ChatGoogleGenerativeAI\n",
    "from langchain_google_genai import ChatGoogleGenerativeAI\n",
    "from langchain.chains.conversation.memory import ConversationBufferWindowMemory\n",
    "from langchain_text_splitters import RecursiveCharacterTextSplitter\n",
    "from langchain_community.document_loaders import PyPDFLoader\n",
    "from langchain_pinecone import PineconeVectorStore\n",
    "from langchain_community.embeddings import HuggingFaceEmbeddings\n",
    "from dotenv import load_dotenv\n",
    "\n",
    "load_dotenv()"
   ]
  },
  {
   "cell_type": "code",
   "execution_count": 21,
   "id": "792244f7",
   "metadata": {},
   "outputs": [
    {
     "name": "stdout",
     "output_type": "stream",
     "text": [
      "<langgraph.graph.state.CompiledStateGraph object at 0x00000281D2241010>\n"
     ]
    }
   ],
   "source": [
    "from langgraph.graph import StateGraph, START, END\n",
    "from embedding import find_match , get_weather, get_conversation_chain\n",
    "import os\n",
    "from typing import Annotated\n",
    "from typing_extensions import TypedDict\n",
    "\n",
    "def find_match(question):\n",
    "    query = f\"\"\"\n",
    "    You are a knowledgeable assistant. Use the provided context from the database to answer the question accurately.\n",
    "    Question: {question}\n",
    "    - If the answer is not present in the database/context, respond exactly with: \"I don't know.\"\n",
    "    - Do not make up answers or add extra details outside the provided context.\n",
    "    \"\"\"\n",
    "\n",
    "    PINECONE_INDEX_NAME = os.getenv('PINECONE_INDEX')\n",
    "\n",
    "    # Use the same Hugging Face model as you did in embedding upload\n",
    "    embeddings = HuggingFaceEmbeddings(\n",
    "        model_name=\"sentence-transformers/all-mpnet-base-v2\"  # 768-dim to match Pinecone index\n",
    "    )\n",
    "\n",
    "    # Load existing Pinecone index\n",
    "    vector_search = PineconeVectorStore.from_existing_index(\n",
    "        index_name=PINECONE_INDEX_NAME,\n",
    "        embedding=embeddings\n",
    "    )\n",
    "\n",
    "    # Create conversation chain\n",
    "    conversation_chain = get_conversation_chain(vector_search)\n",
    "\n",
    "    # Run the query\n",
    "    response = conversation_chain({\"question\": query})\n",
    "\n",
    "    return response.get('answer', \"\")\n",
    "\n",
    "\n",
    "# ---- STATE ----\n",
    "class AgentState(TypedDict):\n",
    "    messages: Annotated[list, add_messages]\n",
    "    \n",
    "\n",
    "# ---- DECISION FUNCTION ----\n",
    "def decide_action(state: AgentState):\n",
    "    question = state.get(\"question\", \"\").lower()\n",
    "    weather_keywords = [\"weather\", \"temperature\", \"forecast\", \"climate\"]\n",
    "\n",
    "    if any(word in question for word in weather_keywords):\n",
    "        return \"weather_node\"\n",
    "    else:\n",
    "        return \"find_match_node\"\n",
    "\n",
    "# ---- WEATHER NODE ----\n",
    "def weather_node(state: AgentState):\n",
    "    city_name = state.get(\"city_name\") or state.get(\"question\")\n",
    "    state[\"answer\"] = get_weather(city_name)\n",
    "    return state\n",
    "\n",
    "# ---- FIND MATCH NODE ----\n",
    "def find_match_node(state: AgentState):\n",
    "    question = state.get(\"question\", \"\")\n",
    "    state[\"answer\"] = find_match(question)\n",
    "    return state\n",
    "\n",
    "# ---- GRAPH BUILDER ----\n",
    "builder = StateGraph(AgentState)\n",
    "\n",
    "builder.add_node(\"decision_node\", lambda s: s)  # Keeps state as-is\n",
    "builder.add_node(\"weather_node\", weather_node)\n",
    "builder.add_node(\"find_match_node\", find_match_node)\n",
    "\n",
    "# Flow: START → decision → (weather/find match) → END\n",
    "builder.add_edge(START, \"decision_node\")\n",
    "\n",
    "builder.add_conditional_edges(\n",
    "    \"decision_node\",\n",
    "    decide_action,  # This decides where to go next\n",
    "    {\n",
    "        \"weather_node\": \"weather_node\",\n",
    "        \"find_match_node\": \"find_match_node\"\n",
    "    }\n",
    ")\n",
    "\n",
    "builder.add_edge([\"weather_node\", \"find_match_node\"], END)\n",
    "\n",
    "graph = builder.compile()\n",
    "\n",
    "# Example run\n",
    "result = graph.invoke({\"question\": \"What is fact table\"})\n",
    "print(graph)"
   ]
  },
  {
   "cell_type": "code",
   "execution_count": 22,
   "id": "4be624c5",
   "metadata": {},
   "outputs": [
    {
     "data": {
      "image/png": "[encoded data removed]",
      "text/plain": [
       "<IPython.core.display.Image object>"
      ]
     },
     "metadata": {},
     "output_type": "display_data"
    }
   ],
   "source": [
    "from IPython.display import Image, display\n",
    "\n",
    "display(Image(graph.get_graph().draw_mermaid_png()))"
   ]
  },
  {
   "cell_type": "code",
   "execution_count": 13,
   "id": "e26240d7",
   "metadata": {},
   "outputs": [],
   "source": [
    "from langchain.chat_models import init_chat_model\n",
    "from typing import Annotated\n",
    "from typing_extensions import TypedDict\n",
    "from langgraph.graph import StateGraph, START, END\n",
    "from langgraph.graph.message import add_messages\n",
    "from langchain_core.tools import tool\n",
    "from langgraph.prebuilt import ToolNode, tools_condition"
   ]
  },
  {
   "cell_type": "code",
   "execution_count": 14,
   "id": "928d2680",
   "metadata": {},
   "outputs": [
    {
     "data": {
      "text/plain": [
       "True"
      ]
     },
     "execution_count": 14,
     "metadata": {},
     "output_type": "execute_result"
    }
   ],
   "source": [
    "from dotenv import load_dotenv\n",
    "load_dotenv()"
   ]
  },
  {
   "cell_type": "code",
   "execution_count": null,
   "id": "ac20b307",
   "metadata": {},
   "outputs": [],
   "source": [
    "def get_conversation_chain(vector_search):\n",
    "    # You can still use Gemini or GPT here, I kept GPT-4o from your code\n",
    "    \n",
    "    llm = ChatGoogleGenerativeAI(\n",
    "    model=\"gemini-2.5-flash\", temperature= 0)\n",
    "    memory = ConversationBufferWindowMemory(\n",
    "        k=3, memory_key=\"chat_history\", return_messages=True\n",
    "    )\n",
    "\n",
    "    return ConversationalRetrievalChain.from_llm(\n",
    "        llm=llm,\n",
    "        retriever=vector_search.as_retriever(),\n",
    "        memory=memory\n",
    "    )\n",
    "    \n",
    "@tool\n",
    "def get_weather(city_name):\n",
    "    \"\"\"\n",
    "    Fetch real-time weather data for a given city using OpenWeather API.\n",
    "    \"\"\"\n",
    "    api_key = os.getenv(\"OPENWEATHER_API_KEY\")  # Store your API key in .env file\n",
    "    base_url = \"https://api.openweathermap.org/data/2.5/weather\"\n",
    "\n",
    "    params = {\n",
    "        \"q\": city_name,\n",
    "        \"appid\": api_key,\n",
    "        \"units\": \"metric\"  # Use \"imperial\" for Fahrenheit\n",
    "    }\n",
    "\n",
    "    try:\n",
    "        response = requests.get(base_url, params=params)\n",
    "        data = response.json()\n",
    "\n",
    "        if response.status_code != 200:\n",
    "            return f\"Error: {data.get('message', 'Unable to fetch weather data')}\"\n",
    "\n",
    "        # Extract relevant info\n",
    "        city = data[\"name\"]\n",
    "        country = data[\"sys\"][\"country\"]\n",
    "        temperature = data[\"main\"][\"temp\"]\n",
    "        feels_like = data[\"main\"][\"feels_like\"]\n",
    "        weather_condition = data[\"weather\"][0][\"description\"]\n",
    "\n",
    "        return f\"Weather in {city}, {country}: {temperature}°C, feels like {feels_like}°C, {weather_condition}.\"\n",
    "    \n",
    "    except Exception as e:\n",
    "        return f\"An error occurred: {e}\"\n",
    "\n",
    "@tool\n",
    "def find_match(question):\n",
    "    \"\"\"\n",
    "    Retrieve the most relevant answer from the Pinecone vector database\n",
    "    based on the user's question.\n",
    "\n",
    "    This function:\n",
    "    1. Formats the user question into a structured query with clear instructions.\n",
    "    2. Uses Hugging Face embeddings (\"all-mpnet-base-v2\") to encode the query.\n",
    "    3. Searches an existing Pinecone index for relevant context.\n",
    "    4. Passes the matched context to a conversation chain for generating the final answer.\n",
    "\n",
    "    Rules for answering:\n",
    "    - If the answer is not found in the database/context, return exactly \"I don't know.\"\n",
    "    - Do not generate or add details outside the provided context.\n",
    "\n",
    "    Args:\n",
    "        question (str): The user's input question.\n",
    "\n",
    "    Returns:\n",
    "        str: The most relevant answer from the database, or \"I don't know.\" if no match is found.\n",
    "    \"\"\"\n",
    "    query = f\"\"\"\n",
    "    You are a knowledgeable assistant. Use the provided context from the database to answer the question accurately.\n",
    "    Question: {question}\n",
    "    - If the answer is not present in the database/context, respond exactly with: \"I don't know.\"\n",
    "    - Do not make up answers or add extra details outside the provided context.\n",
    "    \"\"\"\n",
    "\n",
    "    PINECONE_INDEX_NAME = os.getenv('PINECONE_INDEX')\n",
    "\n",
    "    # Use the same Hugging Face model as used in embedding upload\n",
    "    embeddings = HuggingFaceEmbeddings(\n",
    "        model_name=\"sentence-transformers/all-mpnet-base-v2\"  # 768-dim to match Pinecone index\n",
    "    )\n",
    "\n",
    "    # Load existing Pinecone index\n",
    "    vector_search = PineconeVectorStore.from_existing_index(\n",
    "        index_name=PINECONE_INDEX_NAME,\n",
    "        embedding=embeddings\n",
    "    )\n",
    "\n",
    "    # Create conversation chain\n",
    "    conversation_chain = get_conversation_chain(vector_search)\n",
    "\n",
    "    # Run the query\n",
    "    response = conversation_chain({\"question\": query})\n",
    "\n",
    "    return response.get('answer', \"\")\n",
    "\n",
    "tools = [find_match, get_weather]\n",
    "\n",
    "llm = init_chat_model(\"google_genai:gemini-2.0-flash\")\n",
    "llm_with_tools = llm.bind_tools(tools)\n"
   ]
  },
  {
   "cell_type": "code",
   "execution_count": 29,
   "id": "f1b55a20",
   "metadata": {},
   "outputs": [
    {
     "data": {
      "image/png": "[encoded data removed]",
      "text/plain": [
       "<IPython.core.display.Image object>"
      ]
     },
     "metadata": {},
     "output_type": "display_data"
    }
   ],
   "source": [
    "def chatbot(state: AgentState):\n",
    "    return {\"messages\": [llm_with_tools.invoke(state[\"messages\"])]}\n",
    "\n",
    "builder = StateGraph(AgentState)\n",
    "\n",
    "builder.add_node(chatbot)\n",
    "builder.add_node(\"tools\", ToolNode(tools))\n",
    "\n",
    "builder.add_edge(START, \"chatbot\")\n",
    "builder.add_conditional_edges(\"chatbot\", tools_condition)\n",
    "\n",
    "graph = builder.compile()\n",
    "\n",
    "from IPython.display import Image, display\n",
    "\n",
    "display(Image(graph.get_graph().draw_mermaid_png()))"
   ]
  },
  {
   "cell_type": "code",
   "execution_count": 31,
   "id": "e9789c37",
   "metadata": {},
   "outputs": [
    {
     "data": {
      "text/plain": [
       "'The dimension table contains the attributes of the dataset such as customers, region, etc. Dimension tables contain at least one column which is unique.'"
      ]
     },
     "execution_count": 31,
     "metadata": {},
     "output_type": "execute_result"
    }
   ],
   "source": [
    "def call_graph(query: str):\n",
    "    state = graph.invoke({\"messages\": [{\"role\": \"user\", \"content\": query}]})\n",
    "    return state[\"messages\"][-1].content\n",
    "# state = graph.invoke({\"messages\": [{\"role\": \"user\", \"content\": \"tell me weather in Pune?\"}]})\n",
    "# print(state[\"messages\"][-1].content)\n",
    "call_graph(\"what is dimension table\")"
   ]
  },
  {
   "cell_type": "code",
   "execution_count": 25,
   "id": "f19beb67",
   "metadata": {},
   "outputs": [
    {
     "name": "stdout",
     "output_type": "stream",
     "text": [
      "The fact table contains the transaction data (Sales Data). The same is not applicable to fact tables regarding having at least one unique column, unlike dimension tables.\n"
     ]
    }
   ],
   "source": [
    "state = graph.invoke({\"messages\": [{\"role\": \"user\", \"content\": \"what is fact table?\"}]})\n",
    "print(state[\"messages\"][-1].content)"
   ]
  }
 ],
 "metadata": {
  "kernelspec": {
   "display_name": "AI-Engg-assignement-langgraph",
   "language": "python",
   "name": "python3"
  },
  "language_info": {
   "codemirror_mode": {
    "name": "ipython",
    "version": 3
   },
   "file_extension": ".py",
   "mimetype": "text/x-python",
   "name": "python",
   "nbconvert_exporter": "python",
   "pygments_lexer": "ipython3",
   "version": "3.11.4"
  }
 },
 "nbformat": 4,
 "nbformat_minor": 5
}
